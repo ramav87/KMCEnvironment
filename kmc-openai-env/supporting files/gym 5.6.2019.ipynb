{
 "cells": [
  {
   "cell_type": "code",
   "execution_count": 1,
   "metadata": {},
   "outputs": [],
   "source": [
    "%load_ext autoreload\n",
    "%autoreload 2"
   ]
  },
  {
   "cell_type": "code",
   "execution_count": 2,
   "metadata": {},
   "outputs": [
    {
     "name": "stderr",
     "output_type": "stream",
     "text": [
      "Using TensorFlow backend.\n"
     ]
    }
   ],
   "source": [
    "import gym\n",
    "from gym import error, spaces, utils\n",
    "from gym.utils import seeding\n",
    "from kmcsim.buildtools import make_fcc, write_latt\n",
    "import kmc_env\n",
    "import kmcsim\n",
    "from kmcsim.sim import KMCModel\n",
    "from kmcsim.sim import EventTree\n",
    "from kmcsim.sim import RunSim\n",
    "import os\n",
    "import numpy as np\n",
    "import collections\n",
    "from kmc_env.envs.kmcsim_state_funcs import make_surface_proj,calc_roughness,get_state_reward,get_incremented_rates,gaussian\n",
    "from kmc_env.envs.kmc_env import *\n",
    "from matplotlib import pyplot as plt\n",
    "import random\n",
    "from collections import deque\n",
    "from keras.models import Sequential\n",
    "from keras.layers import Dense\n",
    "from keras.optimizers import Adam\n",
    "from keras.layers import Dense, Conv2D, MaxPool2D, UpSampling2D, Reshape, Flatten, Add, Input\n",
    "from keras.models import Model\n",
    "from keras.layers import Concatenate\n",
    "from IPython.display import clear_output\n",
    "import time\n",
    "import sys\n",
    "from copy import deepcopy"
   ]
  },
  {
   "cell_type": "code",
   "execution_count": 3,
   "metadata": {},
   "outputs": [],
   "source": [
    "from tensorflow.compat.v1 import ConfigProto\n",
    "from tensorflow.compat.v1 import InteractiveSession\n",
    "from kmcsim.buildtools import make_fcc, write_latt\n",
    "config = ConfigProto()\n",
    "config.gpu_options.allow_growth = True\n",
    "session = InteractiveSession(config=config)"
   ]
  },
  {
   "cell_type": "code",
   "execution_count": 4,
   "metadata": {
    "scrolled": false
   },
   "outputs": [],
   "source": [
    "class DQNAgent:\n",
    "    def __init__(self, state_size, action_size,gamma=0.5,epsilon=0.8,epsilon_min=0,epsilon_decay=0.992):\n",
    "        self.state_size = state_size\n",
    "        self.action_size = action_size\n",
    "        self.memory = deque(maxlen=2000)\n",
    "        self.gamma = gamma    # discount rate\n",
    "        self.epsilon = epsilon  # exploration rate\n",
    "        self.epsilon_min = epsilon_min\n",
    "        self.epsilon_decay = epsilon_decay\n",
    "        self.model = self._build_model()\n",
    "\n",
    "    def _build_model(self):\n",
    "        model = Sequential()\n",
    "        model.add(Conv2D(32, activation='tanh', kernel_size = (3,3), strides = (1,1), batch_input_shape=(1,32,32,1)))\n",
    "        model.add(MaxPool2D((2,2)))\n",
    "        model.add(Conv2D(64, activation='tanh', kernel_size = (3,3), strides = (1,1), batch_input_shape=(1,32,32,1)))\n",
    "        model.add(MaxPool2D((2,2)))\n",
    "        model.add(Conv2D(32, activation='tanh', kernel_size = (3,3), strides = (1,1)))\n",
    "        model.add(MaxPool2D((2,2)))\n",
    "        model.add(Flatten())\n",
    "        model.add(Dense(128, activation='tanh'))\n",
    "        model.add(Dense(128, activation='tanh'))\n",
    "        model.add(Dense(self.action_size*3, activation='linear'))\n",
    "        model.compile(loss='mse', optimizer='adam', metrics=['mae'])\n",
    "        #model.build()\n",
    "        return model\n",
    "\n",
    "    def remember(self, state, action, reward, next_state, done):\n",
    "        self.memory.append((state, action, reward, next_state, done))\n",
    "\n",
    "    def act(self, state):\n",
    "        if np.random.rand() <= self.epsilon:\n",
    "            action = [np.random.randint(0, 3) for i in range(self.action_size)]#, np.random.randint(0, 3), np.random.randint(0, 3)]\n",
    "            decision=0\n",
    "\n",
    "        else:\n",
    "            action = [np.argmax(self.model.predict(state[None,:,:,None])[0][i*3:(i+1)*3]) for i in range(self.action_size)]\n",
    "            #action = [np.argmax(self.model.predict(state[None,:,:,None])[0][i*3:(i+1)*3]),\n",
    "            #          np.argmax(self.model.predict(state[None,:,:,None])[0][3:6]),\n",
    "            #          np.argmax(self.model.predict(state[None,:,:,None])[0][6:])]\n",
    "            print(action)\n",
    "            decision=1\n",
    "   \n",
    "        return action,decision  # returns action\n",
    "\n",
    "    def replay(self, batch_size):\n",
    "        state, action, reward_new, next_state, done = self.memory[-1]\n",
    "        ns_s=next_state[None,:,:,None]-next_state[None,:,:,None].mean()\n",
    "        target = (reward_new + self.gamma *\n",
    "                      np.amax(self.model.predict(ns_s)))\n",
    "        s_s=state[None,:,:,None]-state[None,:,:,None].mean()\n",
    "        target_f = self.model.predict(s_s)[0]\n",
    "        target_f[action] = target\n",
    "        self.model.fit(s_s, target_f.reshape(-1, self.action_size*3), epochs=1, verbose=0)\n",
    "        if self.epsilon > self.epsilon_min:\n",
    "            self.epsilon *= self.epsilon_decay\n",
    "\n",
    "    def load(self, name):\n",
    "        self.model.load_weights(name)\n",
    "\n",
    "    def save(self, name):\n",
    "        self.model.save_weights(name)\n",
    "\n",
    "\n"
   ]
  },
  {
   "cell_type": "code",
   "execution_count": 5,
   "metadata": {},
   "outputs": [],
   "source": [
    "box = [16, 32, 4]\n",
    "box_extension=32\n",
    "target_roughness=0.98\n",
    "EPISODES=150\n",
    "wdir=r'/Users/rvv/kmcsim/data/working'"
   ]
  },
  {
   "cell_type": "code",
   "execution_count": 6,
   "metadata": {},
   "outputs": [
    {
     "data": {
      "image/png": "[encoded data removed]",
      "text/plain": [
       "<Figure size 432x288 with 1 Axes>"
      ]
     },
     "metadata": {
      "needs_background": "light"
     },
     "output_type": "display_data"
    }
   ],
   "source": [
    "w=2\n",
    "\n",
    "x=np.arange(-1,1,0.01)\n",
    "y=1-np.abs(x*10*1/w)\n",
    "y=y*1000\n",
    "y[y<-1]=-1\n",
    "\n",
    "y1=gaussian(x,sig=0.04*w,mu=0)*1000-1 \n",
    "\n",
    "y2=np.ones_like(x)*1000\n",
    "y2[x>0.05*w]=-1\n",
    "y2[x<-0.05*w]=-1\n",
    "plt.plot(x+target_roughness,y)\n",
    "plt.plot(x+target_roughness,y1)\n",
    "plt.plot(x+target_roughness,y2)\n",
    "plt.show()"
   ]
  },
  {
   "cell_type": "code",
   "execution_count": 7,
   "metadata": {},
   "outputs": [],
   "source": [
    "env = KmcEnv(box=box,box_extension=box_extension,target_roughness=target_roughness,\n",
    "             reward_type='gaussian',reward_multiplier=1000,reward_tolerance=2,\n",
    "             rates_spread=0.1,rates_adjustment=1,folder_with_params=wdir)\n",
    "state,reward = env.reset()\n",
    "state_size = env.state.shape\n",
    "action_size = 5\n",
    "agent = DQNAgent(state_size, action_size)"
   ]
  },
  {
   "cell_type": "code",
   "execution_count": 8,
   "metadata": {
    "scrolled": false
   },
   "outputs": [
    {
     "name": "stdout",
     "output_type": "stream",
     "text": [
      "Existing rates: [0.2 0.3 0.1 0.2 0.2]\n",
      "Now inside get incremented rates function\n",
      "apparently the existing rates are [0.2 0.3 0.1 0.2 0.2]\n",
      "And we have an action of [2, 2, 2, 1, 2]\n",
      "New rates: [0.22, 0.3, 0.12000000000000001, 0.2, 0.22]\n"
     ]
    },
    {
     "ename": "ValueError",
     "evalue": "cannot reshape array of size 15 into shape (9)",
     "output_type": "error",
     "traceback": [
      "\u001b[0;31m---------------------------------------------------------------------------\u001b[0m",
      "\u001b[0;31mValueError\u001b[0m                                Traceback (most recent call last)",
      "\u001b[0;32m<ipython-input-8-4c194e91766a>\u001b[0m in \u001b[0;36m<module>\u001b[0;34m\u001b[0m\n\u001b[1;32m     15\u001b[0m         \u001b[0mnext_state\u001b[0m\u001b[0;34m,\u001b[0m \u001b[0mreward\u001b[0m\u001b[0;34m,\u001b[0m \u001b[0mdone\u001b[0m \u001b[0;34m=\u001b[0m \u001b[0menv\u001b[0m\u001b[0;34m.\u001b[0m\u001b[0mstep\u001b[0m\u001b[0;34m(\u001b[0m\u001b[0maction\u001b[0m\u001b[0;34m,\u001b[0m \u001b[0mverbose\u001b[0m\u001b[0;34m=\u001b[0m\u001b[0;32mFalse\u001b[0m\u001b[0;34m)\u001b[0m\u001b[0;34m\u001b[0m\u001b[0;34m\u001b[0m\u001b[0m\n\u001b[1;32m     16\u001b[0m         \u001b[0magent\u001b[0m\u001b[0;34m.\u001b[0m\u001b[0mremember\u001b[0m\u001b[0;34m(\u001b[0m\u001b[0mstate\u001b[0m\u001b[0;34m,\u001b[0m \u001b[0maction\u001b[0m\u001b[0;34m,\u001b[0m \u001b[0mreward\u001b[0m\u001b[0;34m,\u001b[0m \u001b[0mnext_state\u001b[0m\u001b[0;34m,\u001b[0m \u001b[0mdone\u001b[0m\u001b[0;34m)\u001b[0m\u001b[0;34m\u001b[0m\u001b[0;34m\u001b[0m\u001b[0m\n\u001b[0;32m---> 17\u001b[0;31m         \u001b[0magent\u001b[0m\u001b[0;34m.\u001b[0m\u001b[0mreplay\u001b[0m\u001b[0;34m(\u001b[0m\u001b[0mbatch_size\u001b[0m\u001b[0;34m)\u001b[0m\u001b[0;34m\u001b[0m\u001b[0;34m\u001b[0m\u001b[0m\n\u001b[0m\u001b[1;32m     18\u001b[0m         \u001b[0mstate\u001b[0m \u001b[0;34m=\u001b[0m \u001b[0mnext_state\u001b[0m\u001b[0;34m\u001b[0m\u001b[0;34m\u001b[0m\u001b[0m\n\u001b[1;32m     19\u001b[0m         \u001b[0mrms_val\u001b[0m \u001b[0;34m=\u001b[0m \u001b[0mcalc_roughness\u001b[0m\u001b[0;34m(\u001b[0m\u001b[0mstate\u001b[0m\u001b[0;34m)\u001b[0m\u001b[0;34m\u001b[0m\u001b[0;34m\u001b[0m\u001b[0m\n",
      "\u001b[0;32m<ipython-input-4-590336d967d4>\u001b[0m in \u001b[0;36mreplay\u001b[0;34m(self, batch_size)\u001b[0m\n\u001b[1;32m     52\u001b[0m         \u001b[0mtarget_f\u001b[0m \u001b[0;34m=\u001b[0m \u001b[0mself\u001b[0m\u001b[0;34m.\u001b[0m\u001b[0mmodel\u001b[0m\u001b[0;34m.\u001b[0m\u001b[0mpredict\u001b[0m\u001b[0;34m(\u001b[0m\u001b[0ms_s\u001b[0m\u001b[0;34m)\u001b[0m\u001b[0;34m[\u001b[0m\u001b[0;36m0\u001b[0m\u001b[0;34m]\u001b[0m\u001b[0;34m\u001b[0m\u001b[0;34m\u001b[0m\u001b[0m\n\u001b[1;32m     53\u001b[0m         \u001b[0mtarget_f\u001b[0m\u001b[0;34m[\u001b[0m\u001b[0maction\u001b[0m\u001b[0;34m]\u001b[0m \u001b[0;34m=\u001b[0m \u001b[0mtarget\u001b[0m\u001b[0;34m\u001b[0m\u001b[0;34m\u001b[0m\u001b[0m\n\u001b[0;32m---> 54\u001b[0;31m         \u001b[0mself\u001b[0m\u001b[0;34m.\u001b[0m\u001b[0mmodel\u001b[0m\u001b[0;34m.\u001b[0m\u001b[0mfit\u001b[0m\u001b[0;34m(\u001b[0m\u001b[0ms_s\u001b[0m\u001b[0;34m,\u001b[0m \u001b[0mtarget_f\u001b[0m\u001b[0;34m.\u001b[0m\u001b[0mreshape\u001b[0m\u001b[0;34m(\u001b[0m\u001b[0;34m-\u001b[0m\u001b[0;36m1\u001b[0m\u001b[0;34m,\u001b[0m \u001b[0;36m9\u001b[0m\u001b[0;34m)\u001b[0m\u001b[0;34m,\u001b[0m \u001b[0mepochs\u001b[0m\u001b[0;34m=\u001b[0m\u001b[0;36m1\u001b[0m\u001b[0;34m,\u001b[0m \u001b[0mverbose\u001b[0m\u001b[0;34m=\u001b[0m\u001b[0;36m0\u001b[0m\u001b[0;34m)\u001b[0m\u001b[0;34m\u001b[0m\u001b[0;34m\u001b[0m\u001b[0m\n\u001b[0m\u001b[1;32m     55\u001b[0m         \u001b[0;32mif\u001b[0m \u001b[0mself\u001b[0m\u001b[0;34m.\u001b[0m\u001b[0mepsilon\u001b[0m \u001b[0;34m>\u001b[0m \u001b[0mself\u001b[0m\u001b[0;34m.\u001b[0m\u001b[0mepsilon_min\u001b[0m\u001b[0;34m:\u001b[0m\u001b[0;34m\u001b[0m\u001b[0;34m\u001b[0m\u001b[0m\n\u001b[1;32m     56\u001b[0m             \u001b[0mself\u001b[0m\u001b[0;34m.\u001b[0m\u001b[0mepsilon\u001b[0m \u001b[0;34m*=\u001b[0m \u001b[0mself\u001b[0m\u001b[0;34m.\u001b[0m\u001b[0mepsilon_decay\u001b[0m\u001b[0;34m\u001b[0m\u001b[0;34m\u001b[0m\u001b[0m\n",
      "\u001b[0;31mValueError\u001b[0m: cannot reshape array of size 15 into shape (9)"
     ]
    }
   ],
   "source": [
    "done = False\n",
    "batch_size = 1\n",
    "env._max_episode_steps = None\n",
    "for e in range(EPISODES):\n",
    "    state,reward = env.reset()\n",
    "    done=env.end_flag\n",
    "    count=0\n",
    "    while not done:\n",
    "        if done:\n",
    "            print(\"episode: {}/{}, RMS: {}, score: {}, e: {:.2}\"\n",
    "                  .format(e, EPISODES, rms_val, reward, agent.epsilon))\n",
    "            break\n",
    "            \n",
    "        action, decision = agent.act(state)\n",
    "        next_state, reward, done = env.step(action, verbose=False)\n",
    "        agent.remember(state, action, reward, next_state, done)\n",
    "        agent.replay(batch_size)\n",
    "        state = next_state\n",
    "        rms_val = calc_roughness(state)\n",
    "        thickness=np.mean(state)\n",
    "        clear_output(wait=True) \n",
    "        plt.title(count)\n",
    "        plt.imshow(state,vmin=0,vmax=30,cmap='nipy_spectral')\n",
    "        plt.colorbar()\n",
    "        plt.show()\n",
    "        print(\"episode: {}/{}, RMS: {:.4}, score: {:.4}, thickness: {:.4}, e: {:.4}, decision: {}, done: {}\"\n",
    "                  .format(e, EPISODES, rms_val, reward, thickness, agent.epsilon, decision, done))\n",
    "        count=count+1\n"
   ]
  },
  {
   "cell_type": "code",
   "execution_count": null,
   "metadata": {},
   "outputs": [],
   "source": [
    "agent.model.load(r\"C:\\Users\\ni1\\Documents\\RL\\kmcenv\\kmc-openai-env\\supporting files\\RL_DQN_0_98_adj_rates_m.h5\")"
   ]
  },
  {
   "cell_type": "code",
   "execution_count": null,
   "metadata": {},
   "outputs": [],
   "source": [
    "agent.model.load_weights(r\"C:\\Users\\ni1\\Documents\\RL\\kmcenv\\kmc-openai-env\\supporting files\\RL_DQN_0_98_adj_rates.h5\")"
   ]
  },
  {
   "cell_type": "code",
   "execution_count": null,
   "metadata": {},
   "outputs": [],
   "source": [
    "class RandomAgent:\n",
    "    def __init__(self, state_size, action_size):\n",
    "        self.state_size = state_size\n",
    "        self.action_size = action_size\n",
    "        self.memory = deque(maxlen=2000)\n",
    "\n",
    "    def act(self, state):\n",
    "        action = [np.random.randint(0, 3), np.random.randint(0, 3), np.random.randint(0, 3)]\n",
    "        decision=0\n",
    "        return action,decision "
   ]
  },
  {
   "cell_type": "code",
   "execution_count": null,
   "metadata": {},
   "outputs": [],
   "source": [
    "# env = KmcEnv(box=box,box_extension=box_extension,target_roughness=target_roughness,\n",
    "#              reward_type='gaussian',reward_multiplier=1000,reward_tolerance=2,\n",
    "#              rates_spread=0.1,rates_adjustment=1,folder_with_params=wdir)\n",
    "\n",
    "\n",
    "# env._max_episode_steps = None\n",
    "\n",
    "# state1,reward = env.reset()\n",
    "# env1=deepcopy(env)\n",
    "\n",
    "# rms_vals_rand=[]\n",
    "# thickness_vals_rand=[]\n",
    "\n",
    "# rms_vals_dqn=[]\n",
    "# thickness_vals_dqn=[]\n",
    "\n",
    "# random_agent=RandomAgent(state_size, action_size)\n",
    "    \n",
    "    \n",
    "# for i in range(50):\n",
    "#     state1,reward = env.reset()\n",
    "#     env1=deepcopy(env)\n",
    "#     done=False\n",
    "#     state=np.copy(state1)\n",
    "#     while not done:\n",
    "#         action, decision = agent.act(state)\n",
    "#         next_state, reward, done = env.step(action, verbose=False)\n",
    "#         state = next_state\n",
    "#         rms_val = calc_roughness(state)\n",
    "#         thickness=np.mean(state)\n",
    "#         rms_vals_dqn+=[rms_val]\n",
    "#         thickness_vals_dqn+=[thickness]\n",
    "#     done=False\n",
    "#     state=np.copy(state1)\n",
    "#     while not done:\n",
    "#         action, decision = random_agent.act(state)\n",
    "#         next_state, reward, done = env1.step(action, verbose=False)\n",
    "#         state = next_state\n",
    "#         rms_val = calc_roughness(state)\n",
    "#         thickness=np.mean(state)\n",
    "#         rms_vals_rand+=[rms_val]\n",
    "#         thickness_vals_rand+=[thickness]"
   ]
  },
  {
   "cell_type": "code",
   "execution_count": null,
   "metadata": {},
   "outputs": [],
   "source": [
    "rms_vals_dqn=np.load('rms_vals_dqn.npy')\n",
    "rms_vals_rand=np.load('rms_vals_rand.npy')\n",
    "thickness_vals_dqn=np.load('thickness_vals_dqn.npy')\n",
    "thickness_vals_rand=np.load('thickness_vals_rand.npy')"
   ]
  },
  {
   "cell_type": "code",
   "execution_count": null,
   "metadata": {},
   "outputs": [],
   "source": [
    "for i in range(50):\n",
    "    plt.plot(np.arange(10),rms_vals_dqn[i*10:i*10+10],c='r',alpha=0.1)\n",
    "    plt.plot(np.arange(10),rms_vals_rand[i*10:i*10+10],c='b',alpha=0.1)\n",
    "    plt.axhline(0.98,linestyle='--',c='0.5')\n",
    "plt.show()"
   ]
  },
  {
   "cell_type": "code",
   "execution_count": null,
   "metadata": {},
   "outputs": [],
   "source": [
    "for i in range(50):\n",
    "    plt.plot(np.arange(10),thickness_vals_dqn[i*10:i*10+10],c='r',alpha=0.1)\n",
    "    plt.plot(np.arange(10),thickness_vals_rand[i*10:i*10+10],c='b',alpha=0.1)\n",
    "    plt.axhline(0.98,linestyle='--',c='0.5')\n",
    "plt.show()"
   ]
  },
  {
   "cell_type": "code",
   "execution_count": null,
   "metadata": {},
   "outputs": [],
   "source": []
  }
 ],
 "metadata": {
  "kernelspec": {
   "display_name": "Python 3",
   "language": "python",
   "name": "python3"
  },
  "language_info": {
   "codemirror_mode": {
    "name": "ipython",
    "version": 3
   },
   "file_extension": ".py",
   "mimetype": "text/x-python",
   "name": "python",
   "nbconvert_exporter": "python",
   "pygments_lexer": "ipython3",
   "version": "3.7.3"
  }
 },
 "nbformat": 4,
 "nbformat_minor": 2
}
